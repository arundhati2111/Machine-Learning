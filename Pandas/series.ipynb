{
 "cells": [
  {
   "cell_type": "code",
   "execution_count": 1,
   "id": "1b0bed54-7297-4cca-a98c-b655cccb60a1",
   "metadata": {},
   "outputs": [],
   "source": [
    "import pandas as pd"
   ]
  },
  {
   "cell_type": "code",
   "execution_count": 5,
   "id": "ca5071e9-8376-4e3a-afeb-0af9d304f3d0",
   "metadata": {},
   "outputs": [
    {
     "data": {
      "text/plain": [
       "0     5\n",
       "1     9\n",
       "2    12\n",
       "3    27\n",
       "dtype: int64"
      ]
     },
     "execution_count": 5,
     "metadata": {},
     "output_type": "execute_result"
    }
   ],
   "source": [
    "my_series=[5,9,12,27]\n",
    "my_var=pd.Series(my_series)\n",
    "my_var"
   ]
  },
  {
   "cell_type": "code",
   "execution_count": 7,
   "id": "19f1c070-7999-4a2c-80ed-8ebfca791d6f",
   "metadata": {},
   "outputs": [
    {
     "data": {
      "text/plain": [
       "12"
      ]
     },
     "execution_count": 7,
     "metadata": {},
     "output_type": "execute_result"
    }
   ],
   "source": [
    "# print specific value\n",
    "my_var[2]"
   ]
  },
  {
   "cell_type": "code",
   "execution_count": 9,
   "id": "14f1ff6a-b517-4222-8fc6-853215a1aed3",
   "metadata": {},
   "outputs": [
    {
     "data": {
      "text/plain": [
       "A     5\n",
       "B     9\n",
       "C    12\n",
       "D    27\n",
       "dtype: int64"
      ]
     },
     "execution_count": 9,
     "metadata": {},
     "output_type": "execute_result"
    }
   ],
   "source": [
    "# labels using index argument\n",
    "my_index=[\"A\",\"B\",\"C\",\"D\"]\n",
    "my_var2=pd.Series(my_series,my_index)\n",
    "my_var2"
   ]
  },
  {
   "cell_type": "code",
   "execution_count": 13,
   "id": "79d28cdc-e1c9-43e5-9b40-8533540f0786",
   "metadata": {},
   "outputs": [
    {
     "data": {
      "text/plain": [
       "W     5\n",
       "X     9\n",
       "Y    12\n",
       "Z    27\n",
       "dtype: int64"
      ]
     },
     "execution_count": 13,
     "metadata": {},
     "output_type": "execute_result"
    }
   ],
   "source": [
    "# can directly pass list too\n",
    "my_var3=pd.Series(my_series,[\"W\",\"X\",\"Y\",\"Z\"])\n",
    "my_var3"
   ]
  },
  {
   "cell_type": "code",
   "execution_count": 15,
   "id": "4ce190e4-0111-47ee-96fd-4fb79389ac48",
   "metadata": {},
   "outputs": [
    {
     "data": {
      "text/plain": [
       "9"
      ]
     },
     "execution_count": 15,
     "metadata": {},
     "output_type": "execute_result"
    }
   ],
   "source": [
    "my_var2[\"B\"]"
   ]
  },
  {
   "cell_type": "code",
   "execution_count": 19,
   "id": "b628c679-f09e-49e8-84f3-9cf626ed3feb",
   "metadata": {},
   "outputs": [
    {
     "data": {
      "text/plain": [
       "12"
      ]
     },
     "execution_count": 19,
     "metadata": {},
     "output_type": "execute_result"
    }
   ],
   "source": [
    "my_var2[\"C\"]"
   ]
  },
  {
   "cell_type": "code",
   "execution_count": 21,
   "id": "c9b39c5f-9ebe-4269-9dd6-8bead51c5d19",
   "metadata": {},
   "outputs": [
    {
     "data": {
      "text/plain": [
       "Tesla       12\n",
       "Mercedes    42\n",
       "BMW          3\n",
       "dtype: int64"
      ]
     },
     "execution_count": 21,
     "metadata": {},
     "output_type": "execute_result"
    }
   ],
   "source": [
    "# dictionary\n",
    "# key value pair\n",
    "cars={\"Tesla\":12,\"Mercedes\":42,\"BMW\":3}\n",
    "my_var4=pd.Series(cars)\n",
    "my_var4"
   ]
  },
  {
   "cell_type": "code",
   "execution_count": 23,
   "id": "8c9cc81e-9d6a-4666-9893-6ab6e59ea4d9",
   "metadata": {},
   "outputs": [
    {
     "data": {
      "text/plain": [
       "12"
      ]
     },
     "execution_count": 23,
     "metadata": {},
     "output_type": "execute_result"
    }
   ],
   "source": [
    "my_var4[\"Tesla\"]"
   ]
  },
  {
   "cell_type": "code",
   "execution_count": null,
   "id": "1132b20f-e011-4095-80c6-e3e6f2140faa",
   "metadata": {},
   "outputs": [],
   "source": []
  }
 ],
 "metadata": {
  "kernelspec": {
   "display_name": "Python 3 (ipykernel)",
   "language": "python",
   "name": "python3"
  },
  "language_info": {
   "codemirror_mode": {
    "name": "ipython",
    "version": 3
   },
   "file_extension": ".py",
   "mimetype": "text/x-python",
   "name": "python",
   "nbconvert_exporter": "python",
   "pygments_lexer": "ipython3",
   "version": "3.12.4"
  }
 },
 "nbformat": 4,
 "nbformat_minor": 5
}
