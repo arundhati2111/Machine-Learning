{
 "cells": [
  {
   "cell_type": "code",
   "execution_count": 1,
   "id": "50119f8b-533e-4d92-a51a-072d3b1e434d",
   "metadata": {},
   "outputs": [],
   "source": [
    "import numpy as np \n",
    "np1=np.array([1,2,3,4,5,6,7,8,9,10])\n"
   ]
  },
  {
   "cell_type": "code",
   "execution_count": 3,
   "id": "661a7c50-a523-40d7-a383-0c8b21126aea",
   "metadata": {},
   "outputs": [
    {
     "name": "stdout",
     "output_type": "stream",
     "text": [
      "[ 1  2  3  4  5  6  7  8  9 10]\n",
      "(array([2], dtype=int64),)\n"
     ]
    }
   ],
   "source": [
    "x=np.where(np1==3)\n",
    "print(np1)\n",
    "print(x)"
   ]
  },
  {
   "cell_type": "code",
   "execution_count": 7,
   "id": "ccb1e099-017c-4d56-b6db-cce66edb7ce7",
   "metadata": {},
   "outputs": [
    {
     "name": "stdout",
     "output_type": "stream",
     "text": [
      "(array([2, 4, 8], dtype=int64),)\n"
     ]
    }
   ],
   "source": [
    "np2=np.array([1,2,3,4,3,6,8,9,3])\n",
    "y=np.where(np2==3)\n",
    "print(y)"
   ]
  },
  {
   "cell_type": "code",
   "execution_count": 9,
   "id": "7f6e8c22-266f-4cea-a0e8-a0f3bbd27a55",
   "metadata": {},
   "outputs": [
    {
     "name": "stdout",
     "output_type": "stream",
     "text": [
      "[2]\n",
      "[2 4 8]\n"
     ]
    }
   ],
   "source": [
    "print(x[0])\n",
    "print(y[0])"
   ]
  },
  {
   "cell_type": "code",
   "execution_count": 15,
   "id": "a678377e-e382-4238-8982-3a4239dfa8f2",
   "metadata": {},
   "outputs": [
    {
     "name": "stdout",
     "output_type": "stream",
     "text": [
      "[3]\n",
      "[3 3 3]\n"
     ]
    }
   ],
   "source": [
    "print(np1[x[0]])\n",
    "print(np2[y[0]])"
   ]
  },
  {
   "cell_type": "code",
   "execution_count": 19,
   "id": "133183e8-98f1-4e26-ba51-c4a5b750b8c3",
   "metadata": {},
   "outputs": [
    {
     "name": "stdout",
     "output_type": "stream",
     "text": [
      "[1 3 5 7 9]\n"
     ]
    }
   ],
   "source": [
    "z=np.where(np1 % 2==0)\n",
    "print(z[0])"
   ]
  },
  {
   "cell_type": "code",
   "execution_count": 23,
   "id": "afd196e4-8e9b-42b3-b864-b2d8f4f79f47",
   "metadata": {},
   "outputs": [
    {
     "name": "stdout",
     "output_type": "stream",
     "text": [
      "[0 2 4 6 8]\n"
     ]
    }
   ],
   "source": [
    "w=np.where(np1 %2 ==1)\n",
    "print(w[0])"
   ]
  },
  {
   "cell_type": "code",
   "execution_count": null,
   "id": "971332b9-84a3-4d59-a798-8bc873a484a5",
   "metadata": {},
   "outputs": [],
   "source": []
  }
 ],
 "metadata": {
  "kernelspec": {
   "display_name": "Python 3 (ipykernel)",
   "language": "python",
   "name": "python3"
  },
  "language_info": {
   "codemirror_mode": {
    "name": "ipython",
    "version": 3
   },
   "file_extension": ".py",
   "mimetype": "text/x-python",
   "name": "python",
   "nbconvert_exporter": "python",
   "pygments_lexer": "ipython3",
   "version": "3.12.4"
  }
 },
 "nbformat": 4,
 "nbformat_minor": 5
}
