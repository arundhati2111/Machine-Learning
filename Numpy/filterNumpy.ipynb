{
 "cells": [
  {
   "cell_type": "code",
   "execution_count": 1,
   "id": "fa6efe2c-8058-4b31-9a9c-213657cc40f4",
   "metadata": {},
   "outputs": [],
   "source": [
    "import numpy as np\n",
    "np1=np.array([1,2,3,4,5,6,7,8,9,10])\n"
   ]
  },
  {
   "cell_type": "code",
   "execution_count": 3,
   "id": "d834e4f8-fa17-4c2e-a31c-162e9a767161",
   "metadata": {},
   "outputs": [],
   "source": [
    "x=[True, True, False, False,False, False, False, False, False,True]\n"
   ]
  },
  {
   "cell_type": "code",
   "execution_count": 5,
   "id": "f8211146-7e94-4643-b77f-49029e03ad77",
   "metadata": {},
   "outputs": [
    {
     "name": "stdout",
     "output_type": "stream",
     "text": [
      "[ 1  2  3  4  5  6  7  8  9 10]\n",
      "[ 1  2 10]\n"
     ]
    }
   ],
   "source": [
    "print(np1)\n",
    "print(np1[x])"
   ]
  },
  {
   "cell_type": "code",
   "execution_count": 7,
   "id": "7b41d9f9-3420-42ba-bba2-1e9e77e387c0",
   "metadata": {},
   "outputs": [],
   "source": [
    "filtered=[]\n",
    "for elt in np1:\n",
    "    if elt%2==0:\n",
    "        filtered.append(True)\n",
    "    else:\n",
    "        filtered.append(False)"
   ]
  },
  {
   "cell_type": "code",
   "execution_count": 9,
   "id": "e1db035a-2fe1-4789-9ae5-6291030e3795",
   "metadata": {},
   "outputs": [
    {
     "name": "stdout",
     "output_type": "stream",
     "text": [
      "[ 1  2  3  4  5  6  7  8  9 10]\n",
      "[False, True, False, True, False, True, False, True, False, True]\n",
      "[ 2  4  6  8 10]\n"
     ]
    }
   ],
   "source": [
    "print(np1)\n",
    "print(filtered)\n",
    "print(np1[filtered])"
   ]
  },
  {
   "cell_type": "code",
   "execution_count": 13,
   "id": "8c71ad78-658b-4528-8def-bed3811661e7",
   "metadata": {},
   "outputs": [
    {
     "name": "stdout",
     "output_type": "stream",
     "text": [
      "[ 2  4  6  8 10]\n"
     ]
    }
   ],
   "source": [
    "# store in new array \n",
    "np3=np1[filtered]\n",
    "print(np3)"
   ]
  },
  {
   "cell_type": "code",
   "execution_count": 25,
   "id": "dbfaeeeb-6e65-40c4-9743-0a0818c4f11b",
   "metadata": {},
   "outputs": [],
   "source": [
    "npNew=np.array([1,2,3,55,777,8,94,4,6,7])\n",
    "filtered2=[]\n",
    "for elt in npNew:\n",
    "    if elt>5:\n",
    "        filtered2.append(True)\n",
    "    else:\n",
    "        filtered2.append(False)"
   ]
  },
  {
   "cell_type": "code",
   "execution_count": 27,
   "id": "7a69587b-cc31-4602-adc2-b994b6c23f3c",
   "metadata": {},
   "outputs": [
    {
     "name": "stdout",
     "output_type": "stream",
     "text": [
      "[  1   2   3  55 777   8  94   4   6   7]\n",
      "[False, False, False, True, True, True, True, False, True, True]\n",
      "[ 55 777   8  94   6   7]\n"
     ]
    }
   ],
   "source": [
    "print(npNew)\n",
    "print(filtered2)\n",
    "print(npNew[filtered2])"
   ]
  },
  {
   "cell_type": "code",
   "execution_count": 33,
   "id": "f5c3b43f-adec-4f0d-86d4-e7b27d9a0985",
   "metadata": {},
   "outputs": [],
   "source": [
    "newFilter=np1 % 2==0"
   ]
  },
  {
   "cell_type": "code",
   "execution_count": 35,
   "id": "f21af79c-06c1-4e64-8e67-1226a3b753c0",
   "metadata": {},
   "outputs": [
    {
     "name": "stdout",
     "output_type": "stream",
     "text": [
      "[ 1  2  3  4  5  6  7  8  9 10]\n",
      "[False  True False  True False  True False  True False  True]\n",
      "[ 2  4  6  8 10]\n"
     ]
    }
   ],
   "source": [
    "print(np1)\n",
    "print(newFilter)\n",
    "print(np1[newFilter])"
   ]
  },
  {
   "cell_type": "code",
   "execution_count": 37,
   "id": "85b38ab6-be67-4219-afc2-39b862155fe1",
   "metadata": {},
   "outputs": [
    {
     "name": "stdout",
     "output_type": "stream",
     "text": [
      "[ 1  2  3  4  5  6  7  8  9 10]\n",
      "[ True False  True False  True False  True False  True False]\n",
      "[1 3 5 7 9]\n"
     ]
    }
   ],
   "source": [
    "oddFilter=np1%2==1\n",
    "print(np1)\n",
    "print(oddFilter)\n",
    "print(np1[oddFilter])"
   ]
  },
  {
   "cell_type": "code",
   "execution_count": 39,
   "id": "1ded4559-5378-4f45-8fc7-16c7d84c4349",
   "metadata": {},
   "outputs": [
    {
     "name": "stdout",
     "output_type": "stream",
     "text": [
      "[ 1  2  3  4  5  6  7  8  9 10]\n",
      "[False False False False False  True  True  True  True  True]\n",
      "[ 6  7  8  9 10]\n"
     ]
    }
   ],
   "source": [
    "filter=np1>5\n",
    "print(np1)\n",
    "print(filter)\n",
    "print(np1[filter])"
   ]
  },
  {
   "cell_type": "code",
   "execution_count": null,
   "id": "015d026d-7c3c-4eec-bdc9-dc8b1de60f1e",
   "metadata": {},
   "outputs": [],
   "source": []
  }
 ],
 "metadata": {
  "kernelspec": {
   "display_name": "Python 3 (ipykernel)",
   "language": "python",
   "name": "python3"
  },
  "language_info": {
   "codemirror_mode": {
    "name": "ipython",
    "version": 3
   },
   "file_extension": ".py",
   "mimetype": "text/x-python",
   "name": "python",
   "nbconvert_exporter": "python",
   "pygments_lexer": "ipython3",
   "version": "3.12.4"
  }
 },
 "nbformat": 4,
 "nbformat_minor": 5
}
