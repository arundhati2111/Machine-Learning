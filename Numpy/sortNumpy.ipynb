{
 "cells": [
  {
   "cell_type": "code",
   "execution_count": 1,
   "id": "88341000-583a-4e86-8c72-800faaa0ab4c",
   "metadata": {},
   "outputs": [],
   "source": [
    "import numpy as np"
   ]
  },
  {
   "cell_type": "code",
   "execution_count": 5,
   "id": "33ca8ee0-f9ef-4ac0-a38f-a72d449e9226",
   "metadata": {},
   "outputs": [
    {
     "name": "stdout",
     "output_type": "stream",
     "text": [
      "[6 7 4 9 0 2 1]\n",
      "[0 1 2 4 6 7 9]\n"
     ]
    }
   ],
   "source": [
    "np1=np.array([6,7,4,9,0,2,1])\n",
    "print(np1)\n",
    "print(np.sort(np1))"
   ]
  },
  {
   "cell_type": "code",
   "execution_count": 7,
   "id": "584ce9a1-41f4-400f-bea2-73be1141200f",
   "metadata": {},
   "outputs": [
    {
     "name": "stdout",
     "output_type": "stream",
     "text": [
      "['John' 'Tina' 'Aron' 'Zed']\n",
      "['Aron' 'John' 'Tina' 'Zed']\n"
     ]
    }
   ],
   "source": [
    "# alphabetical\n",
    "np2=np.array([\"John\",\"Tina\",\"Aron\",\"Zed\"])\n",
    "print(np2)\n",
    "print(np.sort(np2))"
   ]
  },
  {
   "cell_type": "code",
   "execution_count": 9,
   "id": "c37f5052-fe8d-4176-bd29-a4023b4a59d6",
   "metadata": {},
   "outputs": [
    {
     "name": "stdout",
     "output_type": "stream",
     "text": [
      "[ True False False  True]\n",
      "[False False  True  True]\n"
     ]
    }
   ],
   "source": [
    "# booleans\n",
    "np3=np.array([True,False,False,True])\n",
    "print(np3)\n",
    "print(np.sort(np3))"
   ]
  },
  {
   "cell_type": "code",
   "execution_count": 13,
   "id": "86ae940c-dac6-4d1f-a394-b5d1302f3210",
   "metadata": {},
   "outputs": [
    {
     "name": "stdout",
     "output_type": "stream",
     "text": [
      "[6 7 4 9 0 2 1]\n",
      "[0 1 2 4 6 7 9]\n",
      "[6 7 4 9 0 2 1]\n"
     ]
    }
   ],
   "source": [
    "# copy is changed not the actual array\n",
    "print(np1)\n",
    "print(np.sort(np1))\n",
    "print(np1)"
   ]
  },
  {
   "cell_type": "code",
   "execution_count": 15,
   "id": "4e4b4c5f-72a4-4010-afea-938fec81a7b8",
   "metadata": {},
   "outputs": [
    {
     "name": "stdout",
     "output_type": "stream",
     "text": [
      "[[6 7 1 9]\n",
      " [8 3 5 0]]\n",
      "[[1 6 7 9]\n",
      " [0 3 5 8]]\n"
     ]
    }
   ],
   "source": [
    "# 2d\n",
    "np4=np.array([[6,7,1,9],[8,3,5,0]])\n",
    "print(np4)\n",
    "print(np.sort(np4))"
   ]
  },
  {
   "cell_type": "code",
   "execution_count": null,
   "id": "672f8478-e696-47e5-9fa5-936351dca886",
   "metadata": {},
   "outputs": [],
   "source": []
  }
 ],
 "metadata": {
  "kernelspec": {
   "display_name": "Python 3 (ipykernel)",
   "language": "python",
   "name": "python3"
  },
  "language_info": {
   "codemirror_mode": {
    "name": "ipython",
    "version": 3
   },
   "file_extension": ".py",
   "mimetype": "text/x-python",
   "name": "python",
   "nbconvert_exporter": "python",
   "pygments_lexer": "ipython3",
   "version": "3.12.4"
  }
 },
 "nbformat": 4,
 "nbformat_minor": 5
}
