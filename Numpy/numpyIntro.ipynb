{
 "cells": [
  {
   "cell_type": "code",
   "execution_count": 1,
   "id": "e80c1399-7ba6-4033-80ab-fe5792151b0d",
   "metadata": {},
   "outputs": [
    {
     "name": "stdout",
     "output_type": "stream",
     "text": [
      "[1, 2, 3, 4, 5]\n"
     ]
    }
   ],
   "source": [
    "list1=[1,2,3,4,5]\n",
    "print(list1)"
   ]
  },
  {
   "cell_type": "code",
   "execution_count": 3,
   "id": "ee21936c-7fff-4463-8554-2dd6a560ada0",
   "metadata": {},
   "outputs": [
    {
     "name": "stdout",
     "output_type": "stream",
     "text": [
      "1\n"
     ]
    }
   ],
   "source": [
    "print(list1[0])"
   ]
  },
  {
   "cell_type": "code",
   "execution_count": 5,
   "id": "1ccf82f5-3c70-4e05-806a-61778bc4e8b1",
   "metadata": {},
   "outputs": [
    {
     "name": "stdout",
     "output_type": "stream",
     "text": [
      "['Arundhati', 41, [1, 2, 3, 4, 5], True]\n"
     ]
    }
   ],
   "source": [
    "list2=[\"Arundhati\",41,list1,True]\n",
    "print(list2)"
   ]
  },
  {
   "cell_type": "code",
   "execution_count": 7,
   "id": "29880a5b-44a0-439f-b9eb-48a686d87e6b",
   "metadata": {},
   "outputs": [],
   "source": [
    "import numpy as np"
   ]
  },
  {
   "cell_type": "code",
   "execution_count": 9,
   "id": "7f9b64d9-c221-4b06-a094-20c1401732d6",
   "metadata": {},
   "outputs": [
    {
     "name": "stdout",
     "output_type": "stream",
     "text": [
      "[0 1 2 3 4 5]\n"
     ]
    }
   ],
   "source": [
    "np1=np.array([0,1,2,3,4,5])\n",
    "print(np1)"
   ]
  },
  {
   "cell_type": "code",
   "execution_count": 11,
   "id": "96ed344f-b542-4d95-8ca2-19afb8dd1da0",
   "metadata": {},
   "outputs": [
    {
     "data": {
      "text/plain": [
       "(6,)"
      ]
     },
     "execution_count": 11,
     "metadata": {},
     "output_type": "execute_result"
    }
   ],
   "source": [
    "np1.shape"
   ]
  },
  {
   "cell_type": "code",
   "execution_count": 13,
   "id": "38a3ca79-1469-4ecc-be3d-f5e368120e3e",
   "metadata": {},
   "outputs": [
    {
     "name": "stdout",
     "output_type": "stream",
     "text": [
      "[0 1 2 3 4 5 6 7 8 9]\n"
     ]
    }
   ],
   "source": [
    "np2=np.arange(10)\n",
    "print(np2)"
   ]
  },
  {
   "cell_type": "code",
   "execution_count": 15,
   "id": "d8eb1d3f-89e2-4c81-8a9c-29af2a793a67",
   "metadata": {},
   "outputs": [
    {
     "name": "stdout",
     "output_type": "stream",
     "text": [
      "[0 2 4 6 8]\n"
     ]
    }
   ],
   "source": [
    "np3=np.arange(0,10,2)\n",
    "print(np3)"
   ]
  },
  {
   "cell_type": "code",
   "execution_count": 17,
   "id": "d193d125-ef3a-4a49-ae95-8f22f17fdcc6",
   "metadata": {},
   "outputs": [
    {
     "name": "stdout",
     "output_type": "stream",
     "text": [
      "[0. 0. 0. 0. 0. 0. 0. 0. 0. 0.]\n"
     ]
    }
   ],
   "source": [
    "np4=np.zeros(10)\n",
    "print(np4)"
   ]
  },
  {
   "cell_type": "code",
   "execution_count": 21,
   "id": "473dfaf5-85e1-40aa-b9f5-b9c385a6baa6",
   "metadata": {},
   "outputs": [
    {
     "name": "stdout",
     "output_type": "stream",
     "text": [
      "[[0. 0. 0. 0. 0. 0. 0. 0. 0. 0.]\n",
      " [0. 0. 0. 0. 0. 0. 0. 0. 0. 0.]]\n"
     ]
    }
   ],
   "source": [
    "np5=np.zeros((2,10))\n",
    "print(np5)"
   ]
  },
  {
   "cell_type": "code",
   "execution_count": 27,
   "id": "80547d5c-2f21-42f8-9be6-ee6abd12e11c",
   "metadata": {},
   "outputs": [
    {
     "name": "stdout",
     "output_type": "stream",
     "text": [
      "[[0 0 0 0 0 0]\n",
      " [0 0 0 0 0 0]\n",
      " [0 0 0 0 0 0]\n",
      " [0 0 0 0 0 0]\n",
      " [0 0 0 0 0 0]\n",
      " [0 0 0 0 0 0]\n",
      " [0 0 0 0 0 0]\n",
      " [0 0 0 0 0 0]\n",
      " [0 0 0 0 0 0]\n",
      " [0 0 0 0 0 0]]\n"
     ]
    }
   ],
   "source": [
    "np6=np.full((10,6),0)\n",
    "print(np6)"
   ]
  },
  {
   "cell_type": "code",
   "execution_count": 29,
   "id": "485f6c49-b80b-43f8-8f76-fde2e478a93b",
   "metadata": {},
   "outputs": [
    {
     "name": "stdout",
     "output_type": "stream",
     "text": [
      "[[6 6 6 6 6 6 6 6 6 6]\n",
      " [6 6 6 6 6 6 6 6 6 6]]\n"
     ]
    }
   ],
   "source": [
    "np7=np.full((2,10),6)\n",
    "print(np7)"
   ]
  },
  {
   "cell_type": "code",
   "execution_count": 31,
   "id": "df2509df-0fa3-4827-af40-5409cfcad984",
   "metadata": {},
   "outputs": [
    {
     "name": "stdout",
     "output_type": "stream",
     "text": [
      "[1 2 3 4 5]\n"
     ]
    }
   ],
   "source": [
    "# convert python list to numpy\n",
    "my_list=[1,2,3,4,5]\n",
    "np8=np.array(my_list)\n",
    "print(np8)"
   ]
  },
  {
   "cell_type": "code",
   "execution_count": 33,
   "id": "d6425a40-06e3-44aa-bf01-95147030efaa",
   "metadata": {},
   "outputs": [
    {
     "name": "stdout",
     "output_type": "stream",
     "text": [
      "1\n"
     ]
    }
   ],
   "source": [
    "print(np8[0])"
   ]
  },
  {
   "cell_type": "code",
   "execution_count": null,
   "id": "a15ca5d4-d207-41be-ab2f-13ea42d1369e",
   "metadata": {},
   "outputs": [],
   "source": []
  }
 ],
 "metadata": {
  "kernelspec": {
   "display_name": "Python 3 (ipykernel)",
   "language": "python",
   "name": "python3"
  },
  "language_info": {
   "codemirror_mode": {
    "name": "ipython",
    "version": 3
   },
   "file_extension": ".py",
   "mimetype": "text/x-python",
   "name": "python",
   "nbconvert_exporter": "python",
   "pygments_lexer": "ipython3",
   "version": "3.12.4"
  }
 },
 "nbformat": 4,
 "nbformat_minor": 5
}
