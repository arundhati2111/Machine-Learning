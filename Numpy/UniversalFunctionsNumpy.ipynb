{
 "cells": [
  {
   "cell_type": "code",
   "execution_count": 7,
   "id": "d21b7cef-8326-4691-b6dc-023bde00828c",
   "metadata": {},
   "outputs": [
    {
     "name": "stdout",
     "output_type": "stream",
     "text": [
      "[-3 -2 -1  0  1  2  3  4  5  6  7  8  9]\n"
     ]
    }
   ],
   "source": [
    "import numpy as np\n",
    "np1=np.array([-3,-2,-1,0,1,2,3,4,5,6,7,8,9])\n",
    "print(np1)"
   ]
  },
  {
   "cell_type": "code",
   "execution_count": 9,
   "id": "11cfb9ea-ea7d-4425-9554-6da47cee4446",
   "metadata": {},
   "outputs": [
    {
     "name": "stdout",
     "output_type": "stream",
     "text": [
      "[       nan        nan        nan 0.         1.         1.41421356\n",
      " 1.73205081 2.         2.23606798 2.44948974 2.64575131 2.82842712\n",
      " 3.        ]\n"
     ]
    },
    {
     "name": "stderr",
     "output_type": "stream",
     "text": [
      "C:\\Users\\aru9n\\AppData\\Local\\Temp\\ipykernel_18668\\2129381944.py:2: RuntimeWarning: invalid value encountered in sqrt\n",
      "  print(np.sqrt(np1))\n"
     ]
    }
   ],
   "source": [
    "# square root of each element of array\n",
    "print(np.sqrt(np1))"
   ]
  },
  {
   "cell_type": "code",
   "execution_count": 11,
   "id": "c76dd3c6-fbc7-4e62-9769-0182778a4bb1",
   "metadata": {},
   "outputs": [
    {
     "name": "stdout",
     "output_type": "stream",
     "text": [
      "[3 2 1 0 1 2 3 4 5 6 7 8 9]\n"
     ]
    }
   ],
   "source": [
    "# absolute value\n",
    "print(np.absolute(np1))"
   ]
  },
  {
   "cell_type": "code",
   "execution_count": 13,
   "id": "c3a2167e-06b2-4ea3-9f46-08b631840c58",
   "metadata": {},
   "outputs": [
    {
     "name": "stdout",
     "output_type": "stream",
     "text": [
      "[4.97870684e-02 1.35335283e-01 3.67879441e-01 1.00000000e+00\n",
      " 2.71828183e+00 7.38905610e+00 2.00855369e+01 5.45981500e+01\n",
      " 1.48413159e+02 4.03428793e+02 1.09663316e+03 2.98095799e+03\n",
      " 8.10308393e+03]\n"
     ]
    }
   ],
   "source": [
    "# exponents\n",
    "print(np.exp(np1))"
   ]
  },
  {
   "cell_type": "code",
   "execution_count": 17,
   "id": "2d19b2fe-abe0-4842-866b-68d7df38a15b",
   "metadata": {},
   "outputs": [
    {
     "name": "stdout",
     "output_type": "stream",
     "text": [
      "9\n",
      "-3\n"
     ]
    }
   ],
   "source": [
    "# min & max elements in array\n",
    "print(np.max(np1))\n",
    "print(np.min(np1))"
   ]
  },
  {
   "cell_type": "code",
   "execution_count": 19,
   "id": "42328e49-7bca-467f-8039-5c2a05b4c94e",
   "metadata": {},
   "outputs": [
    {
     "name": "stdout",
     "output_type": "stream",
     "text": [
      "[-1 -1 -1  0  1  1  1  1  1  1  1  1  1]\n"
     ]
    }
   ],
   "source": [
    "# sign: negative or positive\n",
    "print(np.sign(np1))"
   ]
  },
  {
   "cell_type": "code",
   "execution_count": 21,
   "id": "56fc4d89-a2d4-42bf-bbf0-43568aed9fb9",
   "metadata": {},
   "outputs": [
    {
     "name": "stdout",
     "output_type": "stream",
     "text": [
      "[-0.14112001 -0.90929743 -0.84147098  0.          0.84147098  0.90929743\n",
      "  0.14112001 -0.7568025  -0.95892427 -0.2794155   0.6569866   0.98935825\n",
      "  0.41211849]\n"
     ]
    }
   ],
   "source": [
    "# trig \n",
    "# sin\n",
    "print(np.sin(np1))"
   ]
  },
  {
   "cell_type": "code",
   "execution_count": 23,
   "id": "bf72e8b0-53ff-4a4b-a063-b157ef01bc7c",
   "metadata": {},
   "outputs": [
    {
     "name": "stdout",
     "output_type": "stream",
     "text": [
      "[       nan        nan        nan       -inf 0.         0.69314718\n",
      " 1.09861229 1.38629436 1.60943791 1.79175947 1.94591015 2.07944154\n",
      " 2.19722458]\n"
     ]
    },
    {
     "name": "stderr",
     "output_type": "stream",
     "text": [
      "C:\\Users\\aru9n\\AppData\\Local\\Temp\\ipykernel_18668\\3013157990.py:2: RuntimeWarning: divide by zero encountered in log\n",
      "  print(np.log(np1))\n",
      "C:\\Users\\aru9n\\AppData\\Local\\Temp\\ipykernel_18668\\3013157990.py:2: RuntimeWarning: invalid value encountered in log\n",
      "  print(np.log(np1))\n"
     ]
    }
   ],
   "source": [
    "# log\n",
    "print(np.log(np1))"
   ]
  },
  {
   "cell_type": "code",
   "execution_count": null,
   "id": "d5e4c654-1020-42e1-a15a-fb957609606c",
   "metadata": {},
   "outputs": [],
   "source": []
  }
 ],
 "metadata": {
  "kernelspec": {
   "display_name": "Python 3 (ipykernel)",
   "language": "python",
   "name": "python3"
  },
  "language_info": {
   "codemirror_mode": {
    "name": "ipython",
    "version": 3
   },
   "file_extension": ".py",
   "mimetype": "text/x-python",
   "name": "python",
   "nbconvert_exporter": "python",
   "pygments_lexer": "ipython3",
   "version": "3.12.4"
  }
 },
 "nbformat": 4,
 "nbformat_minor": 5
}
