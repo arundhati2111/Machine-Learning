{
 "cells": [
  {
   "cell_type": "code",
   "execution_count": 1,
   "id": "4538b6fb-b6bd-4968-a6de-17b66cdf9140",
   "metadata": {},
   "outputs": [
    {
     "name": "stdout",
     "output_type": "stream",
     "text": [
      "[2 3 4 5]\n"
     ]
    }
   ],
   "source": [
    "import numpy as np\n",
    "np1=np.array([1,2,3,4,5,6,7,8,9])\n",
    "print(np1[1:5])"
   ]
  },
  {
   "cell_type": "code",
   "execution_count": 3,
   "id": "1b7d63ec-8e1c-4dc3-a7b4-698e9744645b",
   "metadata": {},
   "outputs": [
    {
     "name": "stdout",
     "output_type": "stream",
     "text": [
      "[4 5 6 7 8 9]\n"
     ]
    }
   ],
   "source": [
    "# return from something till end\n",
    "print(np1[3:])"
   ]
  },
  {
   "cell_type": "code",
   "execution_count": 5,
   "id": "13aec6ca-a0a5-4e41-a7c0-f49c5c56021a",
   "metadata": {},
   "outputs": [
    {
     "name": "stdout",
     "output_type": "stream",
     "text": [
      "[7 8]\n"
     ]
    }
   ],
   "source": [
    "# negative slicing\n",
    "print(np1[-3:-1])"
   ]
  },
  {
   "cell_type": "code",
   "execution_count": 7,
   "id": "5250fa63-59b6-48a7-ac64-ac8d13c7ad63",
   "metadata": {},
   "outputs": [
    {
     "name": "stdout",
     "output_type": "stream",
     "text": [
      "[2 3 4 5]\n",
      "[2 4]\n"
     ]
    }
   ],
   "source": [
    "# steps\n",
    "print(np1[1:5])\n",
    "print(np1[1:5:2])"
   ]
  },
  {
   "cell_type": "code",
   "execution_count": 9,
   "id": "8531f99f-2d12-4dca-a0ad-222b817f7c19",
   "metadata": {},
   "outputs": [
    {
     "name": "stdout",
     "output_type": "stream",
     "text": [
      "[1 3 5 7 9]\n"
     ]
    }
   ],
   "source": [
    "# steps on entire array\n",
    "print(np1[::2])"
   ]
  },
  {
   "cell_type": "code",
   "execution_count": 11,
   "id": "2a5fcfec-bf2b-4c07-8659-d70341ce6e32",
   "metadata": {},
   "outputs": [
    {
     "name": "stdout",
     "output_type": "stream",
     "text": [
      "[1 4 7]\n"
     ]
    }
   ],
   "source": [
    "print(np1[::3])"
   ]
  },
  {
   "cell_type": "code",
   "execution_count": 15,
   "id": "29abf2b1-eb48-46c2-8958-91413bbacdd0",
   "metadata": {},
   "outputs": [
    {
     "name": "stdout",
     "output_type": "stream",
     "text": [
      "8\n"
     ]
    }
   ],
   "source": [
    "# 2D array\n",
    "np2=np.array([[1,2,3,4,5],[6,7,8,9,10]])\n",
    "# pulling out a single item from 2D array\n",
    "print(np2[1,2]) "
   ]
  },
  {
   "cell_type": "code",
   "execution_count": 19,
   "id": "a7b5ac1f-09b1-407d-998a-1d8f3fd22a9d",
   "metadata": {},
   "outputs": [
    {
     "name": "stdout",
     "output_type": "stream",
     "text": [
      "[[2 3]]\n"
     ]
    }
   ],
   "source": [
    "# slice 2D array\n",
    "print(np2[0:1,1:3])"
   ]
  },
  {
   "cell_type": "code",
   "execution_count": 21,
   "id": "8ddaf553-368d-4dc0-9ece-ef8073c2e5ef",
   "metadata": {},
   "outputs": [
    {
     "name": "stdout",
     "output_type": "stream",
     "text": [
      "[[2 3]\n",
      " [7 8]]\n"
     ]
    }
   ],
   "source": [
    "# slice from both rows\n",
    "print(np2[0:2,1:3])"
   ]
  },
  {
   "cell_type": "code",
   "execution_count": null,
   "id": "d4e5499f-1527-4baf-8e8d-b54b12b53802",
   "metadata": {},
   "outputs": [],
   "source": []
  }
 ],
 "metadata": {
  "kernelspec": {
   "display_name": "Python 3 (ipykernel)",
   "language": "python",
   "name": "python3"
  },
  "language_info": {
   "codemirror_mode": {
    "name": "ipython",
    "version": 3
   },
   "file_extension": ".py",
   "mimetype": "text/x-python",
   "name": "python",
   "nbconvert_exporter": "python",
   "pygments_lexer": "ipython3",
   "version": "3.12.4"
  }
 },
 "nbformat": 4,
 "nbformat_minor": 5
}
