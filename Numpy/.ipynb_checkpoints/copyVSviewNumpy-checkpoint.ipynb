{
 "cells": [
  {
   "cell_type": "code",
   "execution_count": 1,
   "id": "5a15cc11-f947-4550-8ef2-61b230bc8a8f",
   "metadata": {},
   "outputs": [],
   "source": [
    "import numpy as np\n",
    "np1=np.array([1,2,3,4,5])"
   ]
  },
  {
   "cell_type": "code",
   "execution_count": 3,
   "id": "dd39b30a-6836-4ea9-9025-55206dc2b9a8",
   "metadata": {},
   "outputs": [],
   "source": [
    "# create a view\n",
    "np2=np1.view()"
   ]
  },
  {
   "cell_type": "code",
   "execution_count": 5,
   "id": "bb726e38-8d8f-41d4-8c56-4a4c1ae53949",
   "metadata": {},
   "outputs": [
    {
     "name": "stdout",
     "output_type": "stream",
     "text": [
      "Original NP1 [1 2 3 4 5]\n",
      "Original NP2 [1 2 3 4 5]\n"
     ]
    }
   ],
   "source": [
    "print(f'Original NP1 {np1}')\n",
    "print(f'Original NP2 {np2}')"
   ]
  },
  {
   "cell_type": "code",
   "execution_count": 7,
   "id": "e5d65c48-07f9-49c0-b932-18ff40ffd929",
   "metadata": {},
   "outputs": [
    {
     "name": "stdout",
     "output_type": "stream",
     "text": [
      "Changed NP1 [41  2  3  4  5]\n",
      "Original NP2 [41  2  3  4  5]\n"
     ]
    }
   ],
   "source": [
    "np1[0]=41\n",
    "print(f'Changed NP1 {np1}')\n",
    "print(f'Original NP2 {np2}')"
   ]
  },
  {
   "cell_type": "code",
   "execution_count": 9,
   "id": "30c2d003-d583-4297-a711-21d4f0591d65",
   "metadata": {},
   "outputs": [],
   "source": [
    "# create a copy \n",
    "np3=np1.copy()"
   ]
  },
  {
   "cell_type": "code",
   "execution_count": 11,
   "id": "0f297b69-bf57-45ea-be89-01b70eb9a8b5",
   "metadata": {},
   "outputs": [
    {
     "name": "stdout",
     "output_type": "stream",
     "text": [
      "Original np1 [41  2  3  4  5]\n",
      "Original np3 [41  2  3  4  5]\n"
     ]
    }
   ],
   "source": [
    "print(f'Original np1 {np1}')\n",
    "print(f'Original np3 {np3}')"
   ]
  },
  {
   "cell_type": "code",
   "execution_count": 19,
   "id": "5bd75218-5984-4529-9166-8189a0484e0b",
   "metadata": {},
   "outputs": [
    {
     "name": "stdout",
     "output_type": "stream",
     "text": [
      "Changed np1 [41 52 63  4  5]\n",
      "Original np3 [41  2  3  4  5]\n"
     ]
    }
   ],
   "source": [
    "np1[1]=52\n",
    "print(f'Changed np1 {np1}')\n",
    "print(f'Original np3 {np3}')"
   ]
  },
  {
   "cell_type": "code",
   "execution_count": 17,
   "id": "37953cf3-2adf-44ca-8faf-261a3ca9172f",
   "metadata": {},
   "outputs": [
    {
     "name": "stdout",
     "output_type": "stream",
     "text": [
      "Original np1 [41 52 63  4  5]\n",
      "Changed np2 [41 52 63  4  5]\n"
     ]
    }
   ],
   "source": [
    "np2[2]=63\n",
    "print(f'Original np1 {np1}')\n",
    "print(f'Changed np2 {np2}')"
   ]
  },
  {
   "cell_type": "code",
   "execution_count": null,
   "id": "c3ff99b2-ed13-4d44-880c-cfd94c53fd6d",
   "metadata": {},
   "outputs": [],
   "source": []
  }
 ],
 "metadata": {
  "kernelspec": {
   "display_name": "Python 3 (ipykernel)",
   "language": "python",
   "name": "python3"
  },
  "language_info": {
   "codemirror_mode": {
    "name": "ipython",
    "version": 3
   },
   "file_extension": ".py",
   "mimetype": "text/x-python",
   "name": "python",
   "nbconvert_exporter": "python",
   "pygments_lexer": "ipython3",
   "version": "3.12.4"
  }
 },
 "nbformat": 4,
 "nbformat_minor": 5
}
